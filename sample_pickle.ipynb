{
 "cells": [
  {
   "cell_type": "code",
   "execution_count": 42,
   "id": "795d4ad4-b35d-4286-8c7d-ef582449b07d",
   "metadata": {},
   "outputs": [],
   "source": [
    "import pickle\n",
    "from sklearn.linear_model import LinearRegression\n",
    "from sklearn.preprocessing import LabelEncoder\n",
    "import pandas as pd\n",
    "\n",
    "# Example training data\n",
    "data = pd.DataFrame({\n",
    "    'model': ['Hyundai i20', 'Hyundai Grand i10', 'Honda Jazz', 'Hyundai Creta'],\n",
    "    'modelYear': [2020, 2019, 2018, 2021],\n",
    "    'owner_No': [1, 2, 1, 0],\n",
    "    'Mileage': [15, 16, 14, 17],\n",
    "    'Color': ['Red', 'Blue', 'Black', 'White'],\n",
    "    'Price': [500000, 600000, 550000, 650000]\n",
    "})\n",
    "\n",
    "# Prepare features and target variable\n",
    "X = data[['model', 'modelYear', 'owner_No', 'Mileage', 'Color']].copy()\n",
    "y = data['Price']\n",
    "\n",
    "# Encode categorical features\n",
    "model_encoder = LabelEncoder()\n",
    "X.loc[:, 'model'] = model_encoder.fit_transform(X['model'])\n",
    "\n",
    "color_encoder = LabelEncoder()\n",
    "X.loc[:, 'Color'] = color_encoder.fit_transform(X['Color'])\n",
    "\n",
    "# Train the model\n",
    "lr_model = LinearRegression()\n",
    "lr_model.fit(X, y)\n",
    "\n",
    "# Save the trained model, encoders, and feature names\n",
    "with open('new_combined.pkl', 'wb') as file:\n",
    "    pickle.dump({\n",
    "        'model': lr_model,\n",
    "        'model_encoder': model_encoder,\n",
    "        'color_encoder': color_encoder,\n",
    "        'features': X.columns.tolist()\n",
    "    }, file)\n"
   ]
  },
  {
   "cell_type": "code",
   "execution_count": 44,
   "id": "7f06eaf7-3d4f-4283-900e-9aaa99c4c92f",
   "metadata": {},
   "outputs": [
    {
     "name": "stdout",
     "output_type": "stream",
     "text": [
      "Estimated Price: ₹500,000.00\n"
     ]
    }
   ],
   "source": [
    "import pickle\n",
    "import pandas as pd\n",
    "\n",
    "# Load the model and encoders\n",
    "try:\n",
    "    with open('new_combined.pkl', 'rb') as file:\n",
    "        data = pickle.load(file)\n",
    "        lr_model = data['model']\n",
    "        model_encoder = data['model_encoder']\n",
    "        color_encoder = data['color_encoder']\n",
    "        features = data['features']\n",
    "except FileNotFoundError:\n",
    "    raise Exception(\"Model file not found. Please check the file path.\")\n",
    "\n",
    "# Example input data\n",
    "input_data = pd.DataFrame({\n",
    "    'model': ['Hyundai i20'],  # Replace with actual input\n",
    "    'modelYear': [2020],       # Replace with actual input\n",
    "    'owner_No': [1],           # Replace with actual input\n",
    "    'Mileage': [15],           # Replace with actual input\n",
    "    'Color': ['Red']           # Replace with actual input\n",
    "})\n",
    "\n",
    "# Encode categorical features\n",
    "input_data['model'] = model_encoder.transform(input_data['model'])\n",
    "input_data['Color'] = color_encoder.transform(input_data['Color'])\n",
    "\n",
    "# Ensure the input data has all columns\n",
    "input_data = input_data.reindex(columns=features, fill_value=0)\n",
    "\n",
    "# Predict the price\n",
    "try:\n",
    "    prediction = lr_model.predict(input_data)\n",
    "    print(f\"Estimated Price: ₹{prediction[0]:,.2f}\")\n",
    "except Exception as e:\n",
    "    print(f\"Error: {e}\")\n"
   ]
  }
 ],
 "metadata": {
  "kernelspec": {
   "display_name": "Python 3 (ipykernel)",
   "language": "python",
   "name": "python3"
  },
  "language_info": {
   "codemirror_mode": {
    "name": "ipython",
    "version": 3
   },
   "file_extension": ".py",
   "mimetype": "text/x-python",
   "name": "python",
   "nbconvert_exporter": "python",
   "pygments_lexer": "ipython3",
   "version": "3.12.2"
  }
 },
 "nbformat": 4,
 "nbformat_minor": 5
}
